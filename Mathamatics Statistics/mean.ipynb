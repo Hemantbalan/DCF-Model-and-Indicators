{
 "cells": [
  {
   "cell_type": "code",
   "execution_count": 29,
   "id": "ed4d8342",
   "metadata": {},
   "outputs": [],
   "source": [
    "import numpy as np\n",
    "\n",
    "# no = [17,23,31,35,46,58,59]\n",
    "# mean = np.mean(no)\n",
    "# print({round (mean,2)})"
   ]
  },
  {
   "cell_type": "code",
   "execution_count": null,
   "id": "263f774c",
   "metadata": {},
   "outputs": [
    {
     "name": "stdout",
     "output_type": "stream",
     "text": [
      "38\n"
     ]
    }
   ],
   "source": [
    "# for_values = [35,48,50,39]\n",
    "# mean = 42\n",
    "# totalno = 5\n",
    "# totalsum = mean*totalno\n",
    "# lastvalue = totalsum-sum(for_values)\n",
    "# print(lastvalue)"
   ]
  },
  {
   "cell_type": "code",
   "execution_count": null,
   "id": "69f15282",
   "metadata": {},
   "outputs": [
    {
     "name": "stdout",
     "output_type": "stream",
     "text": [
      "34\n"
     ]
    }
   ],
   "source": [
    "# avg_often = 25\n",
    "# avg_ofnine = 24\n",
    "\n",
    "# mean_of_ten = avg_often * 10\n",
    "# mean_of_nine = avg_ofnine * 9\n",
    "\n",
    "# removed_no = mean_of_ten - mean_of_nine\n",
    "# print(removed_no)"
   ]
  },
  {
   "cell_type": "code",
   "execution_count": null,
   "id": "34623dd1",
   "metadata": {},
   "outputs": [
    {
     "name": "stdout",
     "output_type": "stream",
     "text": [
      "40\n"
     ]
    }
   ],
   "source": [
    "# list = [21,28,34,27]\n",
    "# required_mean = 30\n",
    "# totalnoafteradd = 5\n",
    "# newsum = required_mean * totalnoafteradd\n",
    "# privsum = sum(list)\n",
    "# noneeded = newsum - privsum\n",
    "# print(noneeded)"
   ]
  },
  {
   "cell_type": "code",
   "execution_count": null,
   "id": "4a85e989",
   "metadata": {},
   "outputs": [
    {
     "name": "stdout",
     "output_type": "stream",
     "text": [
      "124.0\n",
      "148\n"
     ]
    }
   ],
   "source": [
    "# Closing_Price = [120,135,110,125,130]\n",
    "# TotalDays = 5\n",
    "# MeanOfFiveDays = sum(Closing_Price)/TotalDays\n",
    "# print(MeanOfFiveDays)\n",
    "\n",
    "# NewAvg = 128\n",
    "# TotalDays = TotalDays + 1\n",
    "# New_sum = NewAvg * TotalDays\n",
    "# New_Price = New_sum - sum(Closing_Price)\n",
    "# print(New_Price)"
   ]
  },
  {
   "cell_type": "code",
   "execution_count": null,
   "id": "9b167b48",
   "metadata": {},
   "outputs": [
    {
     "name": "stdout",
     "output_type": "stream",
     "text": [
      "1760\n",
      "1470\n",
      "450\n"
     ]
    }
   ],
   "source": [
    "# Eight_daymean = 460\n",
    "# Four_daymean = 440\n",
    "# Three_daymean = 490\n",
    "\n",
    "# Sum_of_fourdayprice = Four_daymean * 4\n",
    "# Sum_of_threedayprice = Three_daymean * 3\n",
    "# Sum_of_eightdayprice = Eight_daymean * 8\n",
    "# Sum_of_threefour = Sum_of_fourdayprice + Sum_of_threedayprice\n",
    "# Fifth_dayprice = Sum_of_eightdayprice- Sum_of_threefour\n",
    "# print(Fifth_dayprice)"
   ]
  },
  {
   "cell_type": "code",
   "execution_count": null,
   "id": "dbb08641",
   "metadata": {},
   "outputs": [
    {
     "name": "stdout",
     "output_type": "stream",
     "text": [
      "62\n"
     ]
    }
   ],
   "source": [
    "# prev_list = [32,48,55,63]\n",
    "# sum_of_privlist = sum(prev_list)\n",
    "\n",
    "# mean_of_newlist = 52\n",
    "# sum_of_newlist = mean_of_newlist * 5\n",
    "\n",
    "# required_no = sum_of_newlist - sum_of_privlist\n",
    "# print(required_no)"
   ]
  },
  {
   "cell_type": "code",
   "execution_count": null,
   "id": "1183b306",
   "metadata": {},
   "outputs": [
    {
     "name": "stdout",
     "output_type": "stream",
     "text": [
      "85.83333333333333\n"
     ]
    }
   ],
   "source": [
    "# maths = 90\n",
    "# physics = 85\n",
    "# chemistry = 80\n",
    "\n",
    "# weightage = [5,4,3]\n",
    "# screafter_weight = [maths*5,physics*4,chemistry*3]\n",
    "# weighted_mean = sum(screafter_weight)/sum(weightage)\n",
    "# print(weighted_mean)\n",
    "\n"
   ]
  },
  {
   "cell_type": "code",
   "execution_count": null,
   "id": "8e087ea2",
   "metadata": {},
   "outputs": [
    {
     "name": "stdout",
     "output_type": "stream",
     "text": [
      "Weighted Mean Score: 85.83\n"
     ]
    }
   ],
   "source": [
    "# # Challenge 9: Weighted average of scores with different subject weights\n",
    "\n",
    "# # Scores and their respective weights\n",
    "# scores = [90, 85, 80]       # Math, Physics, Chemistry\n",
    "# weights = [5, 4, 3]         # Corresponding weights\n",
    "\n",
    "# # Compute weighted mean\n",
    "# weighted_mean_score = np.average(scores, weights=weights)\n",
    "\n",
    "# print(f\"Weighted Mean Score: {round(weighted_mean_score, 2)}\")"
   ]
  },
  {
   "cell_type": "code",
   "execution_count": null,
   "id": "011bd319",
   "metadata": {},
   "outputs": [
    {
     "name": "stdout",
     "output_type": "stream",
     "text": [
      "weighted mean score: 86\n"
     ]
    }
   ],
   "source": [
    "# scores = [90,85,80]\n",
    "# weights = [5,4,3]\n",
    "\n",
    "# weitghts_mean_score = np.average(scores,weights=weights)\n",
    "\n",
    "# print(f\"weighted mean score: {round(weighted_mean_score)}\")"
   ]
  },
  {
   "cell_type": "code",
   "execution_count": null,
   "id": "1d443f02",
   "metadata": {},
   "outputs": [
    {
     "name": "stdout",
     "output_type": "stream",
     "text": [
      "6.111111111111111\n"
     ]
    }
   ],
   "source": [
    "# investment = [10,5,15]\n",
    "# returns = [8,12,-2]\n",
    "\n",
    "# portfolio_return = np.average(investment,weights = returns)\n",
    "# print(portfolio_return)"
   ]
  },
  {
   "cell_type": "code",
   "execution_count": null,
   "id": "ffb7e5d0",
   "metadata": {},
   "outputs": [
    {
     "name": "stdout",
     "output_type": "stream",
     "text": [
      "3.1\n"
     ]
    }
   ],
   "source": [
    "# asset_return = [4,-1,7]\n",
    "# weights = [0.5,0.3,0.2]\n",
    "\n",
    "# weighted_average = np.average(asset_return,weights= weights)\n",
    "# print(weighted_average)"
   ]
  },
  {
   "cell_type": "code",
   "execution_count": null,
   "id": "284d8845",
   "metadata": {},
   "outputs": [
    {
     "name": "stdout",
     "output_type": "stream",
     "text": [
      "New average of the : 78333.33\n"
     ]
    }
   ],
   "source": [
    "# avg_montlyexp = 75000\n",
    "# no_of_months = 6\n",
    "# mistaken_value = 20000\n",
    "\n",
    "# total_exp = avg_montlyexp * no_of_months\n",
    "# total_exp = total_exp + mistaken_value\n",
    "\n",
    "# new_avg = total_exp / no_of_months\n",
    "# print(f\"New average of the : {round(new_avg,2)}\")"
   ]
  },
  {
   "cell_type": "code",
   "execution_count": null,
   "id": "56a745fd",
   "metadata": {},
   "outputs": [
    {
     "name": "stdout",
     "output_type": "stream",
     "text": [
      "Correct mean is: 51.29\n"
     ]
    }
   ],
   "source": [
    "# # Correcting a wrongly entered vale in a dataset\n",
    "\n",
    "# original_mean = 50\n",
    "# mistaken_value = 45\n",
    "# correct_value = 54\n",
    "# total_values = 7\n",
    "# difer_of_miscor = correct_value - mistaken_value\n",
    "\n",
    "# sum_of_values = original_mean * total_values\n",
    "# sum_of_values = sum_of_values + difer_of_miscor\n",
    "\n",
    "# correct_mean = sum_of_values / total_values\n",
    "# print(f\"Correct mean is: {round(correct_mean,2)}\")"
   ]
  },
  {
   "cell_type": "code",
   "execution_count": null,
   "id": "e11bfdef",
   "metadata": {},
   "outputs": [
    {
     "name": "stdout",
     "output_type": "stream",
     "text": [
      "The missing value is : 2.3%\n"
     ]
    }
   ],
   "source": [
    "# algorithm_return = [2.3,-1.6,3.1,4.9]\n",
    "# mean = 2.2\n",
    "# total_days = 5\n",
    "# x = 0\n",
    "\n",
    "# total_sum = mean * total_days\n",
    "# known_sum = sum(algorithm_return)\n",
    "# x = total_sum - known_sum\n",
    "# print(f\"The missing value is : {round(x,2)}%\")"
   ]
  },
  {
   "cell_type": "code",
   "execution_count": null,
   "id": "a9dcb9f7",
   "metadata": {},
   "outputs": [
    {
     "name": "stdout",
     "output_type": "stream",
     "text": [
      "Return at incorrect day : 2.1%\n"
     ]
    }
   ],
   "source": [
    "# true_mean = 1.5\n",
    "# no_of_days = 7\n",
    "# false_mena = 1.8\n",
    "\n",
    "# sum_of_actvalues = true_mean * no_of_days\n",
    "# sum_of_falvalues = false_mena * no_of_days\n",
    "\n",
    "# actual_value = sum_of_falvalues - sum_of_actvalues\n",
    "\n",
    "# print(f\"Return at incorrect day : {round(actual_value,2)}%\")"
   ]
  },
  {
   "cell_type": "code",
   "execution_count": null,
   "id": "76a44c52",
   "metadata": {},
   "outputs": [
    {
     "name": "stdout",
     "output_type": "stream",
     "text": [
      "New mean is :88%\n"
     ]
    }
   ],
   "source": [
    "# mean = 100\n",
    "# total_stocks = 5\n",
    "\n",
    "# sum_of_the_stockprice = mean * total_stocks\n",
    "# sum_of_the_stockprice = sum_of_the_stockprice - 60\n",
    "\n",
    "# new_mean = sum_of_the_stockprice / 5\n",
    "# print(f\"New mean is :{round(new_mean)}%\")"
   ]
  },
  {
   "cell_type": "code",
   "execution_count": null,
   "id": "92162d28",
   "metadata": {},
   "outputs": [],
   "source": [
    "# target_mean = 27\n",
    "# count = 6\n",
    "# total_required = target_mean * count\n",
    "\n",
    "# for start in range(15,30,2):\n",
    "#     numbers = [start + 2*i for i in range(count)]\n",
    "#     if sum(numbers) == total_required:\n",
    "#         print(f\"Consecutive odd numbers: {numbers}\")\n",
    "#     break"
   ]
  },
  {
   "cell_type": "code",
   "execution_count": null,
   "id": "a8c3837a",
   "metadata": {},
   "outputs": [
    {
     "name": "stdout",
     "output_type": "stream",
     "text": [
      "The new Number is : 48\n"
     ]
    }
   ],
   "source": [
    "# old_average = 30\n",
    "# total_no = 8\n",
    "# new_avg = 32\n",
    "\n",
    "# sum_with_oldavg = old_average * total_no\n",
    "\n",
    "# total_no = total_no + 1\n",
    "\n",
    "# sum_with_newavg = new_avg * total_no\n",
    "\n",
    "# new_number = sum_with_newavg - sum_with_oldavg\n",
    "# print(f\"The new Number is : {round(new_number,2)}\")"
   ]
  },
  {
   "cell_type": "code",
   "execution_count": null,
   "id": "edab3844",
   "metadata": {},
   "outputs": [
    {
     "name": "stdout",
     "output_type": "stream",
     "text": [
      "The needed returns are : 3.2\n"
     ]
    }
   ],
   "source": [
    "# old_avg = 1.4\n",
    "# days = 5\n",
    "# new_avg = 1.7\n",
    "\n",
    "# sum_of_oldavg = old_avg * days\n",
    "# days = days + 1\n",
    "# sum_of_newavg = new_avg * days\n",
    "\n",
    "# return_needed = sum_of_newavg - sum_of_oldavg\n",
    "# print(f\"The needed returns are : {round(return_needed,2)}\")"
   ]
  },
  {
   "cell_type": "code",
   "execution_count": null,
   "id": "56153148",
   "metadata": {},
   "outputs": [
    {
     "name": "stdout",
     "output_type": "stream",
     "text": [
      "1.48\n",
      "1.48\n"
     ]
    }
   ],
   "source": [
    "import numpy as np\n",
    "\n",
    "# def Average_by_manula(values):\n",
    "#     return sum(values) / len(values)\n",
    "\n",
    "# def Average_by_npmethod(values):\n",
    "#     return np.mean(values)\n",
    "\n",
    "\n",
    "# returns = [2.1,1.7,-0.5,3.2,0.9]\n",
    "# print(Average_by_manula(returns))\n",
    "# print(Average_by_npmethod(returns))"
   ]
  },
  {
   "cell_type": "code",
   "execution_count": null,
   "id": "4f88691c",
   "metadata": {},
   "outputs": [
    {
     "name": "stdout",
     "output_type": "stream",
     "text": [
      "Geometric Mean Return: 1.97%\n"
     ]
    }
   ],
   "source": [
    "# def geometric_mean(returns):\n",
    "#     returns = [1 + r for r in returns]\n",
    "#     product = np.prod(returns)\n",
    "#     gm = product ** (1/len(returns)) - 1\n",
    "#     return gm\n",
    "# monthly_return = [0.05,0.02,-0.01]\n",
    "# mean = geometric_mean(monthly_return)\n",
    "# print(f\"Geometric Mean Return: {round(mean * 100,2)}%\")\n"
   ]
  },
  {
   "cell_type": "code",
   "execution_count": null,
   "id": "7007697f",
   "metadata": {},
   "outputs": [
    {
     "name": "stdout",
     "output_type": "stream",
     "text": [
      "The Geomatric mean : 3.86%\n"
     ]
    }
   ],
   "source": [
    "# def geometric_mean(returns):\n",
    "#     returns = [1 + r for r in returns]\n",
    "#     product = np.prod(returns)\n",
    "#     gm = product ** (1/len(returns)) - 1\n",
    "#     return gm \n",
    "\n",
    "# monthly_return = [0.05,0.10,-0.03]\n",
    "# mean = geometric_mean(monthly_return)\n",
    "# print(f\"The Geomatric mean : {round(mean*100 , 2)}%\")"
   ]
  }
 ],
 "metadata": {
  "kernelspec": {
   "display_name": "python_cource",
   "language": "python",
   "name": "python3"
  },
  "language_info": {
   "codemirror_mode": {
    "name": "ipython",
    "version": 3
   },
   "file_extension": ".py",
   "mimetype": "text/x-python",
   "name": "python",
   "nbconvert_exporter": "python",
   "pygments_lexer": "ipython3",
   "version": "3.12.7"
  }
 },
 "nbformat": 4,
 "nbformat_minor": 5
}
